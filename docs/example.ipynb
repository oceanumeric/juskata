{
 "cells": [
  {
   "cell_type": "markdown",
   "metadata": {},
   "source": [
    "# Example usage\n",
    "\n",
    "Quick Introduction and demo on how to use `juskata` to convert numbers to french words ☺️"
   ]
  },
  {
   "cell_type": "code",
   "execution_count": 1,
   "metadata": {},
   "outputs": [],
   "source": [
    "# install juskata in case you haven't \n",
    "# uncomment the following line and install it\n",
    "# !pip install juskata"
   ]
  },
  {
   "cell_type": "code",
   "execution_count": 2,
   "metadata": {},
   "outputs": [],
   "source": [
    "from juskata import Num2Words"
   ]
  },
  {
   "cell_type": "markdown",
   "metadata": {},
   "source": [
    "## France French Style"
   ]
  },
  {
   "cell_type": "code",
   "execution_count": 3,
   "metadata": {},
   "outputs": [
    {
     "data": {
      "text/plain": [
       "'six-cent-soixante-six'"
      ]
     },
     "execution_count": 3,
     "metadata": {},
     "output_type": "execute_result"
    }
   ],
   "source": [
    "# initialize the class\n",
    "n2w_fr = Num2Words(lang=\"FR\")\n",
    "n2w_fr.convert_num(666)"
   ]
  },
  {
   "cell_type": "code",
   "execution_count": 4,
   "metadata": {},
   "outputs": [
    {
     "data": {
      "text/plain": [
       "'dix-huit-milles'"
      ]
     },
     "execution_count": 4,
     "metadata": {},
     "output_type": "execute_result"
    }
   ],
   "source": [
    "n2w_fr.convert_num(18000)"
   ]
  },
  {
   "cell_type": "code",
   "execution_count": 5,
   "metadata": {},
   "outputs": [
    {
     "data": {
      "text/plain": [
       "'vingt-et-un'"
      ]
     },
     "execution_count": 5,
     "metadata": {},
     "output_type": "execute_result"
    }
   ],
   "source": [
    "n2w_fr.convert_num(21)"
   ]
  },
  {
   "cell_type": "code",
   "execution_count": 6,
   "metadata": {},
   "outputs": [],
   "source": [
    "foo_num_list = [0, 1, 5, 10, 11, 15, 20, 21, 30, 35, 50, 51, 68, 70, 75, 99, 100, 101, 105, 111, 123, 168, 171, 175, 199, 200, 201, 555, 999, 1000, 1001, 1111, 1199, 1234, 1999, 2000, 2001, 2020, 2021, 2345, 9999, 10000, 11111, 12345, 123456, 654321, 999999]"
   ]
  },
  {
   "cell_type": "code",
   "execution_count": 7,
   "metadata": {},
   "outputs": [
    {
     "data": {
      "text/plain": [
       "['zéro',\n",
       " 'un',\n",
       " 'cinq',\n",
       " 'dix',\n",
       " 'onze',\n",
       " 'quinze',\n",
       " 'vingt',\n",
       " 'vingt-et-un',\n",
       " 'trente',\n",
       " 'trente-cinq',\n",
       " 'cinquante',\n",
       " 'cinquante-et-un',\n",
       " 'soixante-huit',\n",
       " 'soixante-dix',\n",
       " 'soixante-quinze',\n",
       " 'quatre-vingt-dix-neuf',\n",
       " 'cent',\n",
       " 'cent-un',\n",
       " 'cent-cinq',\n",
       " 'cent-onze',\n",
       " 'cent-vingt-trois',\n",
       " 'cent-soixante-huit',\n",
       " 'cent-soixante-et-onze',\n",
       " 'cent-soixante-quinze',\n",
       " 'cent-quatre-vingt-dix-neuf',\n",
       " 'deux-cents',\n",
       " 'deux-cent-un',\n",
       " 'cinq-cent-cinquante-cinq',\n",
       " 'neuf-cent-quatre-vingt-dix-neuf',\n",
       " 'mille',\n",
       " 'mille-un',\n",
       " 'mille-cent-onze',\n",
       " 'mille-cent-quatre-vingt-dix-neuf',\n",
       " 'mille-deux-cent-trente-quatre',\n",
       " 'mille-neuf-cent-quatre-vingt-dix-neuf',\n",
       " 'deux-milles',\n",
       " 'deux-mille-un',\n",
       " 'deux-mille-vingt',\n",
       " 'deux-mille-vingt-et-un',\n",
       " 'deux-mille-trois-cent-quarante-cinq',\n",
       " 'neuf-mille-neuf-cent-quatre-vingt-dix-neuf',\n",
       " 'dix-milles',\n",
       " 'onze-mille-cent-onze',\n",
       " 'douze-mille-trois-cent-quarante-cinq',\n",
       " 'cent-vingt-trois-mille-quatre-cent-cinquante-six',\n",
       " 'six-cent-cinquante-quatre-mille-trois-cent-vingt-et-un',\n",
       " 'neuf-cent-quatre-vingt-dix-neuf-mille-neuf-cent-quatre-vingt-dix-neuf']"
      ]
     },
     "execution_count": 7,
     "metadata": {},
     "output_type": "execute_result"
    }
   ],
   "source": [
    "n2w_fr.convert_num_list(foo_num_list)"
   ]
  },
  {
   "cell_type": "code",
   "execution_count": 8,
   "metadata": {},
   "outputs": [
    {
     "name": "stdout",
     "output_type": "stream",
     "text": [
      "You chose the language: FR; I hope I could join Jus Mundi 🚀\n"
     ]
    }
   ],
   "source": [
    "print(n2w_fr)"
   ]
  },
  {
   "cell_type": "markdown",
   "metadata": {},
   "source": [
    "## Belgium-French Style"
   ]
  },
  {
   "cell_type": "code",
   "execution_count": 9,
   "metadata": {},
   "outputs": [],
   "source": [
    "n2w_be = Num2Words(lang=\"BE\")"
   ]
  },
  {
   "cell_type": "code",
   "execution_count": 10,
   "metadata": {},
   "outputs": [
    {
     "data": {
      "text/plain": [
       "'huitante'"
      ]
     },
     "execution_count": 10,
     "metadata": {},
     "output_type": "execute_result"
    }
   ],
   "source": [
    "n2w_be.convert_num(80)"
   ]
  },
  {
   "cell_type": "code",
   "execution_count": 11,
   "metadata": {},
   "outputs": [
    {
     "data": {
      "text/plain": [
       "'nonante-trois'"
      ]
     },
     "execution_count": 11,
     "metadata": {},
     "output_type": "execute_result"
    }
   ],
   "source": [
    "n2w_be.convert_num(93)"
   ]
  },
  {
   "cell_type": "code",
   "execution_count": 12,
   "metadata": {},
   "outputs": [
    {
     "data": {
      "text/plain": [
       "['zéro',\n",
       " 'un',\n",
       " 'cinq',\n",
       " 'dix',\n",
       " 'onze',\n",
       " 'quinze',\n",
       " 'vingt',\n",
       " 'vingt-et-un',\n",
       " 'trente',\n",
       " 'trente-cinq',\n",
       " 'cinquante',\n",
       " 'cinquante-et-un',\n",
       " 'soixante-huit',\n",
       " 'septante',\n",
       " 'septante-cinq',\n",
       " 'nonante-neuf',\n",
       " 'cent',\n",
       " 'cent-un',\n",
       " 'cent-cinq',\n",
       " 'cent-onze',\n",
       " 'cent-vingt-trois',\n",
       " 'cent-soixante-huit',\n",
       " 'cent-septante-et-un',\n",
       " 'cent-septante-cinq',\n",
       " 'cent-nonante-neuf',\n",
       " 'deux-cents',\n",
       " 'deux-cent-un',\n",
       " 'cinq-cent-cinquante-cinq',\n",
       " 'neuf-cent-nonante-neuf',\n",
       " 'mille',\n",
       " 'mille-un',\n",
       " 'mille-cent-onze',\n",
       " 'mille-cent-nonante-neuf',\n",
       " 'mille-deux-cent-trente-quatre',\n",
       " 'mille-neuf-cent-nonante-neuf',\n",
       " 'deux-milles',\n",
       " 'deux-mille-un',\n",
       " 'deux-mille-vingt',\n",
       " 'deux-mille-vingt-et-un',\n",
       " 'deux-mille-trois-cent-quarante-cinq',\n",
       " 'neuf-mille-neuf-cent-nonante-neuf',\n",
       " 'dix-milles',\n",
       " 'onze-mille-cent-onze',\n",
       " 'douze-mille-trois-cent-quarante-cinq',\n",
       " 'cent-vingt-trois-mille-quatre-cent-cinquante-six',\n",
       " 'six-cent-cinquante-quatre-mille-trois-cent-vingt-et-un',\n",
       " 'neuf-cent-nonante-neuf-mille-neuf-cent-nonante-neuf']"
      ]
     },
     "execution_count": 12,
     "metadata": {},
     "output_type": "execute_result"
    }
   ],
   "source": [
    "n2w_be.convert_num_list(foo_num_list)"
   ]
  }
 ],
 "metadata": {
  "kernelspec": {
   "display_name": "Python 3 (ipykernel)",
   "language": "python",
   "name": "python3"
  },
  "language_info": {
   "codemirror_mode": {
    "name": "ipython",
    "version": 3
   },
   "file_extension": ".py",
   "mimetype": "text/x-python",
   "name": "python",
   "nbconvert_exporter": "python",
   "pygments_lexer": "ipython3",
   "version": "3.10.10"
  }
 },
 "nbformat": 4,
 "nbformat_minor": 4
}
